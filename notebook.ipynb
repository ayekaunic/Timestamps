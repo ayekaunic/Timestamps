{
 "cells": [
  {
   "cell_type": "markdown",
   "metadata": {},
   "source": [
    "# Importing required libraries"
   ]
  },
  {
   "cell_type": "code",
   "execution_count": null,
   "metadata": {},
   "outputs": [],
   "source": [
    "import os\n",
    "import pandas as pd\n",
    "from PIL import Image\n",
    "from datetime import datetime"
   ]
  },
  {
   "cell_type": "markdown",
   "metadata": {},
   "source": [
    "# Defining functions"
   ]
  },
  {
   "cell_type": "code",
   "execution_count": null,
   "metadata": {},
   "outputs": [],
   "source": [
    "def get_image_date_time(filename):\n",
    "    try:\n",
    "        with Image.open(filename) as img:\n",
    "            exif_data = img._getexif()\n",
    "            if exif_data:\n",
    "                # 0x9003 represents the DateTimeOriginal field in EXIF data\n",
    "                if 0x9003 in exif_data:\n",
    "                    date_time = exif_data[0x9003]\n",
    "                    return date_time\n",
    "    except (AttributeError, KeyError, IndexError):\n",
    "        pass\n",
    "    return None\n",
    "\n",
    "\n",
    "\n",
    "def format_date_time(date_time):\n",
    "    try:\n",
    "        date_time_obj = datetime.strptime(date_time, '%Y:%m:%d %H:%M:%S')\n",
    "        formatted_date_time = date_time_obj.strftime('%I:%M %p, %d %B %Y')\n",
    "        return formatted_date_time\n",
    "    except ValueError:\n",
    "        return None\n",
    "\n",
    "\n",
    "\n",
    "def create_image_dataframe(folder_path):\n",
    "    image_data = []\n",
    "    for filename in os.listdir(folder_path):\n",
    "        if filename.lower().endswith('.jpg'):\n",
    "            file_path = os.path.join(folder_path, filename)\n",
    "            date_time = get_image_date_time(file_path)\n",
    "            if date_time:\n",
    "                formatted_date_time = format_date_time(date_time)\n",
    "                if formatted_date_time:\n",
    "                    image_data.append({'Filename': filename, 'Date_Time': formatted_date_time})\n",
    "\n",
    "    df = pd.DataFrame(image_data)\n",
    "    return df"
   ]
  },
  {
   "cell_type": "markdown",
   "metadata": {},
   "source": [
    "# Extracting timestamps into CSV"
   ]
  },
  {
   "cell_type": "code",
   "execution_count": null,
   "metadata": {},
   "outputs": [],
   "source": [
    "folder_path = \"./images/\"\n",
    "image_dataframe = create_image_dataframe(folder_path)\n",
    "print(image_dataframe.head())\n",
    "image_dataframe.to_csv('timestamps.csv', index=False)"
   ]
  }
 ],
 "metadata": {
  "kernelspec": {
   "display_name": "Python 3",
   "language": "python",
   "name": "python3"
  },
  "language_info": {
   "codemirror_mode": {
    "name": "ipython",
    "version": 3
   },
   "file_extension": ".py",
   "mimetype": "text/x-python",
   "name": "python",
   "nbconvert_exporter": "python",
   "pygments_lexer": "ipython3",
   "version": "3.11.4"
  }
 },
 "nbformat": 4,
 "nbformat_minor": 2
}
